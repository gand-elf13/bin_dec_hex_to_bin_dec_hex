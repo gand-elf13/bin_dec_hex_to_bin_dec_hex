{
  "metadata": {
    "language_info": {
      "codemirror_mode": {
        "name": "python",
        "version": 3
      },
      "file_extension": ".py",
      "mimetype": "text/x-python",
      "name": "python",
      "nbconvert_exporter": "python",
      "pygments_lexer": "ipython3",
      "version": "3.8"
    },
    "kernelspec": {
      "name": "python",
      "display_name": "Python (Pyodide)",
      "language": "python"
    }
  },
  "nbformat_minor": 4,
  "nbformat": 4,
  "cells": [
    {
      "cell_type": "markdown",
      "source": "# ParseInput.py's documentation\n***\n\n## Table of content\n1. [The main functions](#The-main-functions)\n2. [The different input functions](#The-different-input-functions)\n3. [The input's validity's check functions](#The-input's-validity's-check-functions)",
      "metadata": {}
    },
    {
      "cell_type": "markdown",
      "source": "## The main functions",
      "metadata": {}
    },
    {
      "cell_type": "code",
      "source": "def output_result (n, initial_base, final_base):\n    final_n = \"\"\n    if final_base == \"hex\":\n        final_n = convert_to_hex (n, initial_base)\n    elif final_base == \"dec\":\n        final_n = convert_to_dec (n, initial_base)\n    elif final_base == \"bin\":\n        final_n = convert_to_bin (n, initial_base)\n    print (\"The number %s (%s) in %s base is %s\" % (n, initial_base, final_base, final_n))",
      "metadata": {},
      "execution_count": null,
      "outputs": []
    },
    {
      "cell_type": "markdown",
      "source": "This function should be one of the only functions used outside of this module.\n\nThis function takes 3 arguments:\n* `n`, a string containing the number to convert.\n* `initial_base`, a string indicating from which base does the input number stem.\n* `final_base`, a string indicating at which base do we want to convert the input number.\n\nObviously, this function returns nothing (`None`), but rather prints the result of the conversion, in a string type.\n\nThe algorithm is pretty self-explanatory, we get the conversion's result (by using the main functions of the imported `ConvertToDec.py`, `ConvertToBin.py`, and of the `ConvertToHex.py` modules) in a variable that we named `final_n`, and we affect its value, depending on the `final_base`. We then print a text, that we format, using all arguments and `final_n`, to show the user our conversion's result.",
      "metadata": {}
    },
    {
      "cell_type": "markdown",
      "source": "## The different input functions",
      "metadata": {}
    },
    {
      "cell_type": "code",
      "source": "def get_inputs ():\n    n, initial_base = get_n_and_base ()\n    final_base = wait_for_input (\n        \"To which base do you want to conver this number? (dec/bin/hex) : \",\n        \"ERROR, FINAL BASE IS NOT SUPPORTED YET\",\n        \"dec\", \"bin\", \"hex\"\n    )\n    return n, initial_base, final_base",
      "metadata": {},
      "execution_count": null,
      "outputs": []
    },
    {
      "cell_type": "markdown",
      "source": "This function is one of the only functions used outside of this module.\n\nThis function takes no arguments, but returns three strings. Basically, it returns all necessary user's input, after checking its validity. We get the input number n (string type) and its `initial_base` (string type) thanks to another function called `get_n_and_base ()`. We then get the final base in which n will be converted using a function we created called `wait_for_input` that is a safe-proof function to get user's input (see it further). Finally, we just return them.",
      "metadata": {}
    },
    {
      "cell_type": "code",
      "source": "def wait_for_input (text, error_text, *possible_inputs):\n    current_input = get_input (text)\n    while current_input not in possible_inputs:\n        print (error_text)\n        current_input = get_input (text)\n    return current_input",
      "metadata": {},
      "execution_count": null,
      "outputs": []
    },
    {
      "cell_type": "markdown",
      "source": "This function is one of the only functions used outside of this module.\n\nThis function is used when we want to get input from user from a restricted amount of options, for example for y/n questions. We decided to create this function as it will ease the input parsing process, and make the program more robust and efficient.\n\nThis function takes two strings : `text` and `error_text`, and then a variadic amount of strings called `possible_inputs`.\nBasically, we get input after printing `text`, using another created function `get_input (text)` (see its documentation further in this notebook), and then we check if the input stocked in `current_input`'s address suits the `possible_inputs`. If not, we print `error_text` to explain to the user that their input is incompatible, and that they need to input their number again. We keep getting the input and printing the `error_text` until it fits into the `possible_inputs`. When this condition has passed, we return the string `current_input`.",
      "metadata": {}
    },
    {
      "cell_type": "code",
      "source": "def get_input (text):\n    i = input (text)\n    if i == \"EXIT\":\n        quit ()\n    return i",
      "metadata": {},
      "execution_count": null,
      "outputs": []
    },
    {
      "cell_type": "markdown",
      "source": "This function takes a string `text`, and returns a string as well.\n\nThis function is used to take the user's input. We have decided to make another function rather than using Python's built-in `input (text)` function, because we wanted to create an escape system : if the user wants to quit the program, whilst the program is waiting for input, the user should be able to write a specific line of text which will tell the program to exit. This is why we have created this function.\n\nIt basically gets the input after printing a text, then checks if the input text is \"EXIT\". If it is, it executes the `quit ()` function which stops the whole program and exits, which is useful if the user wants to interrupt/close/stop the program mid-way. If it isn't, then we just return the input.",
      "metadata": {}
    },
    {
      "cell_type": "code",
      "source": "def get_n_and_base ():\n    while True:\n        n = get_input (\"Insert the number : \")\n        initial_base = wait_for_input (\n            \"Insert the number's base (dec/bin/hex) : \",\n            \"ERROR, INITIAL BASE IS NOT SUPPORTED YET\",\n            \"dec\", \"bin\", \"hex\",\n        )\n        if is_input_valid (n, initial_base):\n            break\n        else:\n            print (\"ERROR, THE INPUT NUMBER DOESN'T FIT ITS BASE\")\n    return n, initial_base",
      "metadata": {},
      "execution_count": null,
      "outputs": []
    },
    {
      "cell_type": "markdown",
      "source": "This function takes no argument and returns two strings.\n\nThis function is used to get the user's number to convert (`n`), and its base (`initial_base`). This function basically gets all the necessary inputs, and checks if the input is valid. If it is, the loop is broken and we return the different inputs. If it isn't, we explain to the user that their input number doesn't fit its base by printing, and we ask their input again, until all their input is valid.\n\nThis function helps to get input, in a robust safe-proof way.",
      "metadata": {}
    },
    {
      "cell_type": "markdown",
      "source": "## The input's validity's check functions",
      "metadata": {}
    },
    {
      "cell_type": "code",
      "source": "def is_input_valid (n, initial_base):\n    if initial_base == \"dec\":\n        return is_decimal (n)\n    elif initial_base == \"hex\":\n        return is_hexadecimal (n)\n    elif initial_base == \"bin\":\n        return is_binary (n)\n    else:\n        return False",
      "metadata": {},
      "execution_count": null,
      "outputs": []
    },
    {
      "cell_type": "markdown",
      "source": "This function is the main input's validity's check functions.\n\nIt takes two strings : `n` (the input number) and `initial_base` (the input's number's base). This function checks if the input number fits its base using subfunctions. In case `initial_base` is not identified, we just return `False` since it means that the input literally is not valid. As such, the return type of this function is `bool`.",
      "metadata": {}
    },
    {
      "cell_type": "code",
      "source": "def is_hexadecimal (n):\n    for char in n:\n        if char.lower () not in \"0123456789abcdef\":\n            return False\n    return True",
      "metadata": {},
      "execution_count": null,
      "outputs": []
    },
    {
      "cell_type": "markdown",
      "source": "This function takes a string `n` and returns a `bool` expliciting if a hexadecimal number is contained in the string argument.\n\nBasically, it goes through every character in the string, lowers it in case the user wrote in uppercase, and checks if each character is in hexadecimal notation. If not, we return `False` and the whole function exits. If it is, we continue analysing the following character, until there are no more character to analyse. If every character is valid, then we ultimately return `True`.",
      "metadata": {}
    },
    {
      "cell_type": "code",
      "source": "def is_decimal (n):\n    for char in n:\n        if char not in \"0123456789\":\n            return False\n    return True",
      "metadata": {},
      "execution_count": null,
      "outputs": []
    },
    {
      "cell_type": "markdown",
      "source": "This function takes a string `n` and returns a `bool` expliciting if a decimal number is contained in the string argument.\n\nBasically, it goes through every character in the string and checks if each character is a digit. If not, we return `False` and the whole function exits. If it is, we continue analysing the following character, until there are no more characters to analyse. If every character is a digit, then we ultimately return `True`.",
      "metadata": {}
    },
    {
      "cell_type": "code",
      "source": "def is_binary (n):\n    return len (n) == (n.count (\"0\") + n.count (\"1\"))",
      "metadata": {},
      "execution_count": null,
      "outputs": []
    },
    {
      "cell_type": "markdown",
      "source": "This function takes a string `n` and returns a `bool`, expliciting if a binary number is contained in the string argument.\n\nInstead of going through every character as we have done in the two previous functions, we decided to use a shorter method to attain the same result. Binary numbers are only made out of zeros and ones, meaning that if we sum the occurence of ones and zeroes in the string `n`, then we should get the same number as the length of the whole said string. That's essentially how this algorithm works here. It returns `True` or `False` depending on the expression's value.",
      "metadata": {}
    }
  ]
}